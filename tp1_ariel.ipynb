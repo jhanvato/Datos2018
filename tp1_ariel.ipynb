{
 "cells": [
  {
   "cell_type": "code",
   "execution_count": 76,
   "metadata": {},
   "outputs": [],
   "source": [
    "import datetime as datetime\n",
    "import pandas as pd\n",
    "import numpy as np\n",
    "\n",
    "import matplotlib.pyplot as plt\n",
    "import seaborn as sns\n",
    "plt.style.use('default') # Make the graphs a bit prettier\n",
    "plt.rcParams['figure.figsize'] = (15, 5)\n",
    "\n",
    "%matplotlib inline"
   ]
  },
  {
   "cell_type": "code",
   "execution_count": 77,
   "metadata": {},
   "outputs": [],
   "source": [
    "#nivel educativo\n",
    "postulantes_educacion = pd.read_csv(\"datos/datos_navent_fiuba/fiuba_1_postulantes_educacion.csv\", low_memory=False)\n",
    "\n",
    "#fecha de nacimiento y genero\n",
    "postulantes_genero_y_edad = pd.read_csv(\"datos/datos_navent_fiuba/fiuba_2_postulantes_genero_y_edad.csv\", low_memory=False)\n",
    "\n",
    "#vistas de avisos online y offline\n",
    "vistas = pd.read_csv(\"datos/datos_navent_fiuba/fiuba_3_vistas.csv\", low_memory=False)\n",
    "\n",
    "#postulaciones hasta el 1ro de marzo 2018\n",
    "postulaciones = pd.read_csv(\"datos/datos_navent_fiuba/fiuba_4_postulaciones.csv\", low_memory=False)\n",
    "\n",
    "#avisos online al 8 de marzo de 2018\n",
    "avisos_online = pd.read_csv(\"datos/datos_navent_fiuba/fiuba_5_avisos_online.csv\", low_memory=False)\n",
    "\n",
    "#detalle de avisos vistos y postulados tanto offline como online\n",
    "avisos_detalle = pd.read_csv(\"datos/datos_navent_fiuba/fiuba_6_avisos_detalle.csv\", low_memory=False)"
   ]
  },
  {
   "cell_type": "markdown",
   "metadata": {},
   "source": [
    "##  ¿Cual es la distribucion de Estudiantes universitario postulantes a trabajos Full-Time y Part-Time?"
   ]
  },
  {
   "cell_type": "code",
   "execution_count": 78,
   "metadata": {},
   "outputs": [
    {
     "data": {
      "text/html": [
       "<div>\n",
       "<style scoped>\n",
       "    .dataframe tbody tr th:only-of-type {\n",
       "        vertical-align: middle;\n",
       "    }\n",
       "\n",
       "    .dataframe tbody tr th {\n",
       "        vertical-align: top;\n",
       "    }\n",
       "\n",
       "    .dataframe thead th {\n",
       "        text-align: right;\n",
       "    }\n",
       "</style>\n",
       "<table border=\"1\" class=\"dataframe\">\n",
       "  <thead>\n",
       "    <tr style=\"text-align: right;\">\n",
       "      <th></th>\n",
       "      <th>idaviso</th>\n",
       "      <th>idpostulante</th>\n",
       "      <th>fechapostulacion</th>\n",
       "      <th>nombre</th>\n",
       "      <th>estado</th>\n",
       "    </tr>\n",
       "  </thead>\n",
       "  <tbody>\n",
       "    <tr>\n",
       "      <th>88</th>\n",
       "      <td>1112266605</td>\n",
       "      <td>8BkL</td>\n",
       "      <td>2018-01-18 09:56:10</td>\n",
       "      <td>Universitario</td>\n",
       "      <td>En Curso</td>\n",
       "    </tr>\n",
       "    <tr>\n",
       "      <th>89</th>\n",
       "      <td>1112283039</td>\n",
       "      <td>8BkL</td>\n",
       "      <td>2018-01-24 11:01:01</td>\n",
       "      <td>Universitario</td>\n",
       "      <td>En Curso</td>\n",
       "    </tr>\n",
       "    <tr>\n",
       "      <th>90</th>\n",
       "      <td>1112264774</td>\n",
       "      <td>8BkL</td>\n",
       "      <td>2018-01-24 11:06:16</td>\n",
       "      <td>Universitario</td>\n",
       "      <td>En Curso</td>\n",
       "    </tr>\n",
       "    <tr>\n",
       "      <th>91</th>\n",
       "      <td>1112283631</td>\n",
       "      <td>8BkL</td>\n",
       "      <td>2018-02-07 06:53:24</td>\n",
       "      <td>Universitario</td>\n",
       "      <td>En Curso</td>\n",
       "    </tr>\n",
       "    <tr>\n",
       "      <th>92</th>\n",
       "      <td>1112342608</td>\n",
       "      <td>8BkL</td>\n",
       "      <td>2018-02-17 17:40:55</td>\n",
       "      <td>Universitario</td>\n",
       "      <td>En Curso</td>\n",
       "    </tr>\n",
       "  </tbody>\n",
       "</table>\n",
       "</div>"
      ],
      "text/plain": [
       "       idaviso idpostulante     fechapostulacion         nombre    estado\n",
       "88  1112266605         8BkL  2018-01-18 09:56:10  Universitario  En Curso\n",
       "89  1112283039         8BkL  2018-01-24 11:01:01  Universitario  En Curso\n",
       "90  1112264774         8BkL  2018-01-24 11:06:16  Universitario  En Curso\n",
       "91  1112283631         8BkL  2018-02-07 06:53:24  Universitario  En Curso\n",
       "92  1112342608         8BkL  2018-02-17 17:40:55  Universitario  En Curso"
      ]
     },
     "execution_count": 78,
     "metadata": {},
     "output_type": "execute_result"
    }
   ],
   "source": [
    "result = postulaciones.join(postulantes_educacion.set_index('idpostulante'), on='idpostulante')\n",
    "postulantes_universitarios = result[result['nombre']=='Universitario']\n",
    "postulantes_universitarios_en_Curso = postulantes_universitarios[postulantes_universitarios['estado']=='En Curso']\n",
    "\n",
    "postulantes_universitarios_en_Curso.head()"
   ]
  },
  {
   "cell_type": "code",
   "execution_count": 79,
   "metadata": {},
   "outputs": [
    {
     "data": {
      "text/html": [
       "<div>\n",
       "<style scoped>\n",
       "    .dataframe tbody tr th:only-of-type {\n",
       "        vertical-align: middle;\n",
       "    }\n",
       "\n",
       "    .dataframe tbody tr th {\n",
       "        vertical-align: top;\n",
       "    }\n",
       "\n",
       "    .dataframe thead th {\n",
       "        text-align: right;\n",
       "    }\n",
       "</style>\n",
       "<table border=\"1\" class=\"dataframe\">\n",
       "  <thead>\n",
       "    <tr style=\"text-align: right;\">\n",
       "      <th></th>\n",
       "      <th>idpostulante</th>\n",
       "      <th>tipo_de_trabajo</th>\n",
       "    </tr>\n",
       "  </thead>\n",
       "  <tbody>\n",
       "    <tr>\n",
       "      <th>88</th>\n",
       "      <td>8BkL</td>\n",
       "      <td>Full-time</td>\n",
       "    </tr>\n",
       "    <tr>\n",
       "      <th>89</th>\n",
       "      <td>8BkL</td>\n",
       "      <td>Full-time</td>\n",
       "    </tr>\n",
       "    <tr>\n",
       "      <th>90</th>\n",
       "      <td>8BkL</td>\n",
       "      <td>Full-time</td>\n",
       "    </tr>\n",
       "    <tr>\n",
       "      <th>92</th>\n",
       "      <td>8BkL</td>\n",
       "      <td>Full-time</td>\n",
       "    </tr>\n",
       "    <tr>\n",
       "      <th>93</th>\n",
       "      <td>8BkL</td>\n",
       "      <td>Full-time</td>\n",
       "    </tr>\n",
       "  </tbody>\n",
       "</table>\n",
       "</div>"
      ],
      "text/plain": [
       "   idpostulante tipo_de_trabajo\n",
       "88         8BkL       Full-time\n",
       "89         8BkL       Full-time\n",
       "90         8BkL       Full-time\n",
       "92         8BkL       Full-time\n",
       "93         8BkL       Full-time"
      ]
     },
     "execution_count": 79,
     "metadata": {},
     "output_type": "execute_result"
    }
   ],
   "source": [
    "total = postulantes_universitarios_en_Curso.join(avisos_detalle.set_index('idaviso'), on='idaviso')\n",
    "total = total[['idpostulante','tipo_de_trabajo']]\n",
    "\n",
    "total = total.dropna(subset=['tipo_de_trabajo'])\n",
    "\n",
    "full_time = total[(total['tipo_de_trabajo']=='Full-time')]\n",
    "part_time = total[(total['tipo_de_trabajo']=='Part-time')]\n",
    "\n",
    "total.head()"
   ]
  },
  {
   "cell_type": "code",
   "execution_count": 80,
   "metadata": {},
   "outputs": [
    {
     "data": {
      "image/png": "[encoded data removed]",
      "text/plain": [
       "<matplotlib.figure.Figure at 0x1fd3d228a90>"
      ]
     },
     "metadata": {},
     "output_type": "display_data"
    }
   ],
   "source": [
    "sizes = [full_time.tipo_de_trabajo.count(), part_time.tipo_de_trabajo.count()]\n",
    "nombres = ['Full-time', 'Part-time']\n",
    "\n",
    "plt.figure(figsize=(6, 6))\n",
    "plt.title('Distribucion de postulaciones de Universitarios en Curso', fontsize=17)\n",
    "plt.pie(sizes, labels=nombres, autopct='%1.1f%%', startangle=20, colors=['red', 'yellow'], explode=(0.1, 0))\n",
    "plt.show()"
   ]
  },
  {
   "cell_type": "markdown",
   "metadata": {},
   "source": [
    "# ¿Cuál es el promedio en cantidad de postulaciones entre hombres y mujeres?"
   ]
  },
  {
   "cell_type": "code",
   "execution_count": 81,
   "metadata": {},
   "outputs": [],
   "source": [
    "postulantes_genero_y_edad['cant_postulantes'] = 1\n",
    "\n",
    "#le sumo la xolumna edad por q viene la fecha de nacimiento y no la edad especifica\n",
    "postulantes_genero_y_edad['edad'] =  2018 - postulantes_genero_y_edad[postulantes_genero_y_edad['fechanacimiento'].notnull()]['fechanacimiento'].apply(lambda x: x.split('-')[0]).apply(np.int64)\n",
    "#aca no me dejaba convertir la col edad de float a int por los nan's asii q converti los nana a 0 y conveti toda la col en int\n",
    "postulantes_genero_y_edad['edad'] = postulantes_genero_y_edad['edad'].fillna(0.0).apply(np.int64)\n",
    "\n",
    "#saque los valores ridiculos\n",
    "postulantes_edades_validas = postulantes_genero_y_edad[(postulantes_genero_y_edad['edad'] > 17) & (postulantes_genero_y_edad['edad'] < 100)]\n",
    "\n",
    "postulantes_mujer  = postulantes_edades_validas[ postulantes_edades_validas['sexo'] =='FEM' ]\n",
    "postulantes_hombre = postulantes_edades_validas[ postulantes_edades_validas['sexo'] =='MASC' ]"
   ]
  },
  {
   "cell_type": "code",
   "execution_count": 82,
   "metadata": {},
   "outputs": [],
   "source": [
    "postulaciones_mujer = pd.merge(postulantes_mujer, postulaciones, on='idpostulante', how='left')\n",
    "postulaciones_hombre = pd.merge( postulantes_hombre, postulaciones, on='idpostulante', how='left')"
   ]
  },
  {
   "cell_type": "code",
   "execution_count": 83,
   "metadata": {},
   "outputs": [
    {
     "data": {
      "text/html": [
       "<div>\n",
       "<style scoped>\n",
       "    .dataframe tbody tr th:only-of-type {\n",
       "        vertical-align: middle;\n",
       "    }\n",
       "\n",
       "    .dataframe tbody tr th {\n",
       "        vertical-align: top;\n",
       "    }\n",
       "\n",
       "    .dataframe thead th {\n",
       "        text-align: right;\n",
       "    }\n",
       "</style>\n",
       "<table border=\"1\" class=\"dataframe\">\n",
       "  <thead>\n",
       "    <tr style=\"text-align: right;\">\n",
       "      <th></th>\n",
       "      <th>idpostulante</th>\n",
       "      <th>fechanacimiento</th>\n",
       "      <th>sexo</th>\n",
       "      <th>cant_postulantes</th>\n",
       "      <th>edad</th>\n",
       "      <th>idaviso</th>\n",
       "      <th>fechapostulacion</th>\n",
       "    </tr>\n",
       "  </thead>\n",
       "  <tbody>\n",
       "    <tr>\n",
       "      <th>0</th>\n",
       "      <td>NM5M</td>\n",
       "      <td>1970-12-03</td>\n",
       "      <td>FEM</td>\n",
       "      <td>1</td>\n",
       "      <td>48</td>\n",
       "      <td>1112257047</td>\n",
       "      <td>2018-01-15 16:22:34</td>\n",
       "    </tr>\n",
       "    <tr>\n",
       "      <th>1</th>\n",
       "      <td>NM5M</td>\n",
       "      <td>1970-12-03</td>\n",
       "      <td>FEM</td>\n",
       "      <td>1</td>\n",
       "      <td>48</td>\n",
       "      <td>1111920714</td>\n",
       "      <td>2018-02-06 09:04:50</td>\n",
       "    </tr>\n",
       "    <tr>\n",
       "      <th>2</th>\n",
       "      <td>NM5M</td>\n",
       "      <td>1970-12-03</td>\n",
       "      <td>FEM</td>\n",
       "      <td>1</td>\n",
       "      <td>48</td>\n",
       "      <td>1112346945</td>\n",
       "      <td>2018-02-22 09:04:47</td>\n",
       "    </tr>\n",
       "    <tr>\n",
       "      <th>3</th>\n",
       "      <td>NM5M</td>\n",
       "      <td>1970-12-03</td>\n",
       "      <td>FEM</td>\n",
       "      <td>1</td>\n",
       "      <td>48</td>\n",
       "      <td>1112345547</td>\n",
       "      <td>2018-02-22 09:04:59</td>\n",
       "    </tr>\n",
       "    <tr>\n",
       "      <th>4</th>\n",
       "      <td>5awk</td>\n",
       "      <td>1962-12-04</td>\n",
       "      <td>FEM</td>\n",
       "      <td>1</td>\n",
       "      <td>56</td>\n",
       "      <td>1112237522</td>\n",
       "      <td>2018-01-25 18:55:03</td>\n",
       "    </tr>\n",
       "  </tbody>\n",
       "</table>\n",
       "</div>"
      ],
      "text/plain": [
       "  idpostulante fechanacimiento sexo  cant_postulantes  edad     idaviso  \\\n",
       "0         NM5M      1970-12-03  FEM                 1    48  1112257047   \n",
       "1         NM5M      1970-12-03  FEM                 1    48  1111920714   \n",
       "2         NM5M      1970-12-03  FEM                 1    48  1112346945   \n",
       "3         NM5M      1970-12-03  FEM                 1    48  1112345547   \n",
       "4         5awk      1962-12-04  FEM                 1    56  1112237522   \n",
       "\n",
       "      fechapostulacion  \n",
       "0  2018-01-15 16:22:34  \n",
       "1  2018-02-06 09:04:50  \n",
       "2  2018-02-22 09:04:47  \n",
       "3  2018-02-22 09:04:59  \n",
       "4  2018-01-25 18:55:03  "
      ]
     },
     "execution_count": 83,
     "metadata": {},
     "output_type": "execute_result"
    }
   ],
   "source": [
    "postulaciones_mujer.head()"
   ]
  },
  {
   "cell_type": "code",
   "execution_count": 84,
   "metadata": {},
   "outputs": [
    {
     "data": {
      "text/html": [
       "<div>\n",
       "<style scoped>\n",
       "    .dataframe tbody tr th:only-of-type {\n",
       "        vertical-align: middle;\n",
       "    }\n",
       "\n",
       "    .dataframe tbody tr th {\n",
       "        vertical-align: top;\n",
       "    }\n",
       "\n",
       "    .dataframe thead th {\n",
       "        text-align: right;\n",
       "    }\n",
       "</style>\n",
       "<table border=\"1\" class=\"dataframe\">\n",
       "  <thead>\n",
       "    <tr style=\"text-align: right;\">\n",
       "      <th></th>\n",
       "      <th>idpostulante</th>\n",
       "      <th>fechanacimiento</th>\n",
       "      <th>sexo</th>\n",
       "      <th>cant_postulantes</th>\n",
       "      <th>edad</th>\n",
       "      <th>idaviso</th>\n",
       "      <th>fechapostulacion</th>\n",
       "    </tr>\n",
       "  </thead>\n",
       "  <tbody>\n",
       "    <tr>\n",
       "      <th>0</th>\n",
       "      <td>NdJl</td>\n",
       "      <td>1969-05-09</td>\n",
       "      <td>MASC</td>\n",
       "      <td>1</td>\n",
       "      <td>49</td>\n",
       "      <td>1112261212</td>\n",
       "      <td>2018-01-16 08:50:30</td>\n",
       "    </tr>\n",
       "    <tr>\n",
       "      <th>1</th>\n",
       "      <td>NdJl</td>\n",
       "      <td>1969-05-09</td>\n",
       "      <td>MASC</td>\n",
       "      <td>1</td>\n",
       "      <td>49</td>\n",
       "      <td>1112273308</td>\n",
       "      <td>2018-01-23 07:53:47</td>\n",
       "    </tr>\n",
       "    <tr>\n",
       "      <th>2</th>\n",
       "      <td>NdJl</td>\n",
       "      <td>1969-05-09</td>\n",
       "      <td>MASC</td>\n",
       "      <td>1</td>\n",
       "      <td>49</td>\n",
       "      <td>1112281548</td>\n",
       "      <td>2018-01-24 05:10:12</td>\n",
       "    </tr>\n",
       "    <tr>\n",
       "      <th>3</th>\n",
       "      <td>NdJl</td>\n",
       "      <td>1969-05-09</td>\n",
       "      <td>MASC</td>\n",
       "      <td>1</td>\n",
       "      <td>49</td>\n",
       "      <td>1112260409</td>\n",
       "      <td>2018-01-24 05:17:29</td>\n",
       "    </tr>\n",
       "    <tr>\n",
       "      <th>4</th>\n",
       "      <td>NdJl</td>\n",
       "      <td>1969-05-09</td>\n",
       "      <td>MASC</td>\n",
       "      <td>1</td>\n",
       "      <td>49</td>\n",
       "      <td>1112293547</td>\n",
       "      <td>2018-01-29 15:41:43</td>\n",
       "    </tr>\n",
       "  </tbody>\n",
       "</table>\n",
       "</div>"
      ],
      "text/plain": [
       "  idpostulante fechanacimiento  sexo  cant_postulantes  edad     idaviso  \\\n",
       "0         NdJl      1969-05-09  MASC                 1    49  1112261212   \n",
       "1         NdJl      1969-05-09  MASC                 1    49  1112273308   \n",
       "2         NdJl      1969-05-09  MASC                 1    49  1112281548   \n",
       "3         NdJl      1969-05-09  MASC                 1    49  1112260409   \n",
       "4         NdJl      1969-05-09  MASC                 1    49  1112293547   \n",
       "\n",
       "      fechapostulacion  \n",
       "0  2018-01-16 08:50:30  \n",
       "1  2018-01-23 07:53:47  \n",
       "2  2018-01-24 05:10:12  \n",
       "3  2018-01-24 05:17:29  \n",
       "4  2018-01-29 15:41:43  "
      ]
     },
     "execution_count": 84,
     "metadata": {},
     "output_type": "execute_result"
    }
   ],
   "source": [
    "postulaciones_hombre.head()"
   ]
  },
  {
   "cell_type": "code",
   "execution_count": 85,
   "metadata": {},
   "outputs": [
    {
     "data": {
      "text/plain": [
       "idpostulante\n",
       "8MaQjP3    1414\n",
       "4rNzLje    1213\n",
       "JBmav1r    1030\n",
       "ZQZJJb      978\n",
       "aWY5D5      947\n",
       "ow2oqjW     927\n",
       "56XJzM      909\n",
       "qevreVR     805\n",
       "wVXQL3w     732\n",
       "5354Mw      714\n",
       "Name: cant_postulantes, dtype: int64"
      ]
     },
     "execution_count": 85,
     "metadata": {},
     "output_type": "execute_result"
    }
   ],
   "source": [
    "postulaciones_mujer.groupby('idpostulante').agg({'cant_postulantes':'count'})['cant_postulantes'].sort_values(ascending=False).head(10)"
   ]
  },
  {
   "cell_type": "code",
   "execution_count": 86,
   "metadata": {},
   "outputs": [
    {
     "data": {
      "text/plain": [
       "idpostulante\n",
       "axmjOE     3166\n",
       "6rQdqjl    1773\n",
       "5Mwjak     1485\n",
       "KBzm0ZX    1176\n",
       "NzrpkBD    1099\n",
       "4rPx4jR    1059\n",
       "jk5aQ1b    1013\n",
       "5mraqEZ     998\n",
       "av69dW      963\n",
       "vVjZ16P     859\n",
       "Name: cant_postulantes, dtype: int64"
      ]
     },
     "execution_count": 86,
     "metadata": {},
     "output_type": "execute_result"
    }
   ],
   "source": [
    "postulaciones_hombre.groupby('idpostulante').agg({'cant_postulantes':'count'})['cant_postulantes'].sort_values(ascending=False).head(10)"
   ]
  },
  {
   "cell_type": "markdown",
   "metadata": {},
   "source": [
    "# ¿Ver la distribucion de postulantes que estuvieron postulandose durante todo Enero y Febrero del 2018?"
   ]
  },
  {
   "cell_type": "code",
   "execution_count": 117,
   "metadata": {},
   "outputs": [
    {
     "data": {
      "text/plain": [
       "2    1825\n",
       "1    1341\n",
       "Name: mes_postulacion, dtype: int64"
      ]
     },
     "execution_count": 117,
     "metadata": {},
     "output_type": "execute_result"
    }
   ],
   "source": [
    "postulaciones[postulaciones['idpostulante']=='axmjOE']['mes_postulacion'].value_counts()"
   ]
  },
  {
   "cell_type": "code",
   "execution_count": 118,
   "metadata": {},
   "outputs": [
    {
     "data": {
      "text/html": [
       "<div>\n",
       "<style scoped>\n",
       "    .dataframe tbody tr th:only-of-type {\n",
       "        vertical-align: middle;\n",
       "    }\n",
       "\n",
       "    .dataframe tbody tr th {\n",
       "        vertical-align: top;\n",
       "    }\n",
       "\n",
       "    .dataframe thead th {\n",
       "        text-align: right;\n",
       "    }\n",
       "</style>\n",
       "<table border=\"1\" class=\"dataframe\">\n",
       "  <thead>\n",
       "    <tr style=\"text-align: right;\">\n",
       "      <th></th>\n",
       "      <th></th>\n",
       "      <th>mes_postulacion</th>\n",
       "    </tr>\n",
       "    <tr>\n",
       "      <th>idpostulante</th>\n",
       "      <th>mes_postulacion</th>\n",
       "      <th></th>\n",
       "    </tr>\n",
       "  </thead>\n",
       "  <tbody>\n",
       "    <tr>\n",
       "      <th rowspan=\"2\" valign=\"top\">0z5VvGv</th>\n",
       "      <th>1</th>\n",
       "      <td>4</td>\n",
       "    </tr>\n",
       "    <tr>\n",
       "      <th>2</th>\n",
       "      <td>30</td>\n",
       "    </tr>\n",
       "    <tr>\n",
       "      <th>0zB026d</th>\n",
       "      <th>2</th>\n",
       "      <td>3</td>\n",
       "    </tr>\n",
       "    <tr>\n",
       "      <th>0zB03O9</th>\n",
       "      <th>2</th>\n",
       "      <td>17</td>\n",
       "    </tr>\n",
       "    <tr>\n",
       "      <th>0zB08lq</th>\n",
       "      <th>2</th>\n",
       "      <td>1</td>\n",
       "    </tr>\n",
       "  </tbody>\n",
       "</table>\n",
       "</div>"
      ],
      "text/plain": [
       "                              mes_postulacion\n",
       "idpostulante mes_postulacion                 \n",
       "0z5VvGv      1                              4\n",
       "             2                             30\n",
       "0zB026d      2                              3\n",
       "0zB03O9      2                             17\n",
       "0zB08lq      2                              1"
      ]
     },
     "execution_count": 118,
     "metadata": {},
     "output_type": "execute_result"
    }
   ],
   "source": [
    "# TODO COMPLETAR!!!\n",
    "#postulaciones.groupby(['idpostulante','mes_postulacion']).agg({'mes_postulacion':'count'})['mes_postulacion'].sort_values(ascending=False)\n",
    "postulaciones.groupby(['idpostulante','mes_postulacion']).agg({'mes_postulacion':'count'}).head()"
   ]
  },
  {
   "cell_type": "markdown",
   "metadata": {},
   "source": [
    "# ¿De los que se postularon los primeros dias de enero y hallan hecho pocas vistas de postulaciones ver si los dias posteriores no hicieron posterios alguna?"
   ]
  },
  {
   "cell_type": "markdown",
   "metadata": {},
   "source": [
    "Con la respuesta de esta pregunta se tiene que poder deducir o no que los usuarios con menos postulaciones los primeros dias de enero no se postularon mas la segunda mitad de enero y todo febrero porque ya fue contratado."
   ]
  }
 ],
 "metadata": {
  "kernelspec": {
   "display_name": "Python 3",
   "language": "python",
   "name": "python3"
  },
  "language_info": {
   "codemirror_mode": {
    "name": "ipython",
    "version": 3
   },
   "file_extension": ".py",
   "mimetype": "text/x-python",
   "name": "python",
   "nbconvert_exporter": "python",
   "pygments_lexer": "ipython3",
   "version": "3.6.4"
  }
 },
 "nbformat": 4,
 "nbformat_minor": 2
}
