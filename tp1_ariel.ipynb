{
 "cells": [
  {
   "cell_type": "code",
   "execution_count": 187,
   "metadata": {},
   "outputs": [],
   "source": [
    "import datetime as datetime\n",
    "import pandas as pd\n",
    "import numpy as np\n",
    "\n",
    "import matplotlib.pyplot as plt\n",
    "import seaborn as sns\n",
    "plt.style.use('default') # Make the graphs a bit prettier\n",
    "plt.rcParams['figure.figsize'] = (15, 5)\n",
    "\n",
    "%matplotlib inline"
   ]
  },
  {
   "cell_type": "code",
   "execution_count": 2,
   "metadata": {},
   "outputs": [],
   "source": [
    "#nivel educativo\n",
    "postulantes_educacion = pd.read_csv(\"datos/datos_navent_fiuba/fiuba_1_postulantes_educacion.csv\", low_memory=False)\n",
    "\n",
    "#fecha de nacimiento y genero\n",
    "postulantes_genero_y_edad = pd.read_csv(\"datos/datos_navent_fiuba/fiuba_2_postulantes_genero_y_edad.csv\", low_memory=False)\n",
    "\n",
    "#vistas de avisos online y offline\n",
    "vistas = pd.read_csv(\"datos/datos_navent_fiuba/fiuba_3_vistas.csv\", low_memory=False)\n",
    "\n",
    "#postulaciones hasta el 1ro de marzo 2018\n",
    "postulaciones = pd.read_csv(\"datos/datos_navent_fiuba/fiuba_4_postulaciones.csv\", low_memory=False)\n",
    "\n",
    "#avisos online al 8 de marzo de 2018\n",
    "avisos_online = pd.read_csv(\"datos/datos_navent_fiuba/fiuba_5_avisos_online.csv\", low_memory=False)\n",
    "\n",
    "#detalle de avisos vistos y postulados tanto offline como online\n",
    "avisos_detalle = pd.read_csv(\"datos/datos_navent_fiuba/fiuba_6_avisos_detalle.csv\", low_memory=False)"
   ]
  },
  {
   "cell_type": "code",
   "execution_count": 138,
   "metadata": {},
   "outputs": [
    {
     "data": {
      "text/html": [
       "<div>\n",
       "<style>\n",
       "    .dataframe thead tr:only-child th {\n",
       "        text-align: right;\n",
       "    }\n",
       "\n",
       "    .dataframe thead th {\n",
       "        text-align: left;\n",
       "    }\n",
       "\n",
       "    .dataframe tbody tr th {\n",
       "        vertical-align: top;\n",
       "    }\n",
       "</style>\n",
       "<table border=\"1\" class=\"dataframe\">\n",
       "  <thead>\n",
       "    <tr style=\"text-align: right;\">\n",
       "      <th></th>\n",
       "      <th>idaviso</th>\n",
       "      <th>idpostulante</th>\n",
       "      <th>fechapostulacion</th>\n",
       "      <th>nombre</th>\n",
       "      <th>estado</th>\n",
       "    </tr>\n",
       "  </thead>\n",
       "  <tbody>\n",
       "    <tr>\n",
       "      <th>88</th>\n",
       "      <td>1112266605</td>\n",
       "      <td>8BkL</td>\n",
       "      <td>2018-01-18 09:56:10</td>\n",
       "      <td>Universitario</td>\n",
       "      <td>En Curso</td>\n",
       "    </tr>\n",
       "    <tr>\n",
       "      <th>89</th>\n",
       "      <td>1112283039</td>\n",
       "      <td>8BkL</td>\n",
       "      <td>2018-01-24 11:01:01</td>\n",
       "      <td>Universitario</td>\n",
       "      <td>En Curso</td>\n",
       "    </tr>\n",
       "    <tr>\n",
       "      <th>90</th>\n",
       "      <td>1112264774</td>\n",
       "      <td>8BkL</td>\n",
       "      <td>2018-01-24 11:06:16</td>\n",
       "      <td>Universitario</td>\n",
       "      <td>En Curso</td>\n",
       "    </tr>\n",
       "    <tr>\n",
       "      <th>91</th>\n",
       "      <td>1112283631</td>\n",
       "      <td>8BkL</td>\n",
       "      <td>2018-02-07 06:53:24</td>\n",
       "      <td>Universitario</td>\n",
       "      <td>En Curso</td>\n",
       "    </tr>\n",
       "    <tr>\n",
       "      <th>92</th>\n",
       "      <td>1112342608</td>\n",
       "      <td>8BkL</td>\n",
       "      <td>2018-02-17 17:40:55</td>\n",
       "      <td>Universitario</td>\n",
       "      <td>En Curso</td>\n",
       "    </tr>\n",
       "  </tbody>\n",
       "</table>\n",
       "</div>"
      ],
      "text/plain": [
       "       idaviso idpostulante     fechapostulacion         nombre    estado\n",
       "88  1112266605         8BkL  2018-01-18 09:56:10  Universitario  En Curso\n",
       "89  1112283039         8BkL  2018-01-24 11:01:01  Universitario  En Curso\n",
       "90  1112264774         8BkL  2018-01-24 11:06:16  Universitario  En Curso\n",
       "91  1112283631         8BkL  2018-02-07 06:53:24  Universitario  En Curso\n",
       "92  1112342608         8BkL  2018-02-17 17:40:55  Universitario  En Curso"
      ]
     },
     "execution_count": 138,
     "metadata": {},
     "output_type": "execute_result"
    }
   ],
   "source": [
    "result = postulaciones.join(postulantes_educacion.set_index('idpostulante'), on='idpostulante')\n",
    "postulantes_universitarios = result[result['nombre']=='Universitario']\n",
    "postulantes_universitarios_en_Curso = postulantes_universitarios[postulantes_universitarios['estado']=='En Curso']\n",
    "\n",
    "postulantes_universitarios_en_Curso.head()"
   ]
  },
  {
   "cell_type": "code",
   "execution_count": 200,
   "metadata": {},
   "outputs": [
    {
     "data": {
      "text/html": [
       "<div>\n",
       "<style>\n",
       "    .dataframe thead tr:only-child th {\n",
       "        text-align: right;\n",
       "    }\n",
       "\n",
       "    .dataframe thead th {\n",
       "        text-align: left;\n",
       "    }\n",
       "\n",
       "    .dataframe tbody tr th {\n",
       "        vertical-align: top;\n",
       "    }\n",
       "</style>\n",
       "<table border=\"1\" class=\"dataframe\">\n",
       "  <thead>\n",
       "    <tr style=\"text-align: right;\">\n",
       "      <th></th>\n",
       "      <th>idpostulante</th>\n",
       "      <th>tipo_de_trabajo</th>\n",
       "    </tr>\n",
       "  </thead>\n",
       "  <tbody>\n",
       "    <tr>\n",
       "      <th>88</th>\n",
       "      <td>8BkL</td>\n",
       "      <td>Full-time</td>\n",
       "    </tr>\n",
       "    <tr>\n",
       "      <th>89</th>\n",
       "      <td>8BkL</td>\n",
       "      <td>Full-time</td>\n",
       "    </tr>\n",
       "    <tr>\n",
       "      <th>90</th>\n",
       "      <td>8BkL</td>\n",
       "      <td>Full-time</td>\n",
       "    </tr>\n",
       "    <tr>\n",
       "      <th>92</th>\n",
       "      <td>8BkL</td>\n",
       "      <td>Full-time</td>\n",
       "    </tr>\n",
       "    <tr>\n",
       "      <th>93</th>\n",
       "      <td>8BkL</td>\n",
       "      <td>Full-time</td>\n",
       "    </tr>\n",
       "  </tbody>\n",
       "</table>\n",
       "</div>"
      ],
      "text/plain": [
       "   idpostulante tipo_de_trabajo\n",
       "88         8BkL       Full-time\n",
       "89         8BkL       Full-time\n",
       "90         8BkL       Full-time\n",
       "92         8BkL       Full-time\n",
       "93         8BkL       Full-time"
      ]
     },
     "execution_count": 200,
     "metadata": {},
     "output_type": "execute_result"
    }
   ],
   "source": [
    "total = postulantes_universitarios_en_Curso.join(avisos_detalle.set_index('idaviso'), on='idaviso')\n",
    "total = total[['idpostulante','tipo_de_trabajo']]\n",
    "\n",
    "total = total.dropna(subset=['tipo_de_trabajo'])\n",
    "\n",
    "full_time = total[(total['tipo_de_trabajo']=='Full-time')]\n",
    "part_time = total[(total['tipo_de_trabajo']=='Part-time')]\n",
    "\n",
    "total.head()"
   ]
  },
  {
   "cell_type": "code",
   "execution_count": 201,
   "metadata": {},
   "outputs": [
    {
     "data": {
      "image/png": "[encoded data removed]",
      "text/plain": [
       "<matplotlib.figure.Figure at 0x7f766ea57da0>"
      ]
     },
     "metadata": {},
     "output_type": "display_data"
    }
   ],
   "source": [
    "sizes = [full_time.tipo_de_trabajo.count(), part_time.tipo_de_trabajo.count()]\n",
    "nombres = ['Full-time', 'Part-time']\n",
    "\n",
    "plt.figure(figsize=(6, 6))\n",
    "plt.title('Distribucion de postulaciones de Universitarios en Curso', fontsize=20)\n",
    "plt.pie(sizes, labels=nombres, autopct='%1.1f%%', startangle=20, colors=['red', 'yellow'], explode=(0.1, 0))\n",
    "plt.show()"
   ]
  }
 ],
 "metadata": {
  "kernelspec": {
   "display_name": "Python 3",
   "language": "python",
   "name": "python3"
  },
  "language_info": {
   "codemirror_mode": {
    "name": "ipython",
    "version": 3
   },
   "file_extension": ".py",
   "mimetype": "text/x-python",
   "name": "python",
   "nbconvert_exporter": "python",
   "pygments_lexer": "ipython3",
   "version": "3.5.2"
  }
 },
 "nbformat": 4,
 "nbformat_minor": 2
}
