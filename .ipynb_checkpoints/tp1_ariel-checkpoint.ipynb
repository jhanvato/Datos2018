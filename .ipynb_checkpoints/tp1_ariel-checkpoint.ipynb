{
 "cells": [
  {
   "cell_type": "code",
   "execution_count": 3,
   "metadata": {
    "collapsed": true
   },
   "outputs": [],
   "source": [
    "import datetime as datetime\n",
    "import pandas as pd\n",
    "import numpy as np\n",
    "\n",
    "import matplotlib.pyplot as plt\n",
    "import seaborn as sns\n",
    "plt.style.use('default') # Make the graphs a bit prettier\n",
    "plt.rcParams['figure.figsize'] = (15, 5)\n",
    "\n",
    "#%matplotlib inline"
   ]
  },
  {
   "cell_type": "code",
   "execution_count": 4,
   "metadata": {
    "collapsed": true
   },
   "outputs": [],
   "source": [
    "#nivel educativo\n",
    "postulantes_educacion = pd.read_csv(\"datos/datos_navent_fiuba/fiuba_1_postulantes_educacion.csv\", low_memory=False)\n",
    "\n",
    "#fecha de nacimiento y genero\n",
    "postulantes_genero_y_edad = pd.read_csv(\"datos/datos_navent_fiuba/fiuba_2_postulantes_genero_y_edad.csv\", low_memory=False)\n",
    "\n",
    "#vistas de avisos online y offline\n",
    "vistas = pd.read_csv(\"datos/datos_navent_fiuba/fiuba_3_vistas.csv\", low_memory=False)\n",
    "\n",
    "#postulaciones hasta el 1ro de marzo 2018\n",
    "postulaciones = pd.read_csv(\"datos/datos_navent_fiuba/fiuba_4_postulaciones.csv\", low_memory=False)\n",
    "\n",
    "#avisos online al 8 de marzo de 2018\n",
    "avisos_online = pd.read_csv(\"datos/datos_navent_fiuba/fiuba_5_avisos_online.csv\", low_memory=False)\n",
    "\n",
    "#detalle de avisos vistos y postulados tanto offline como online\n",
    "avisos_detalle = pd.read_csv(\"datos/datos_navent_fiuba/fiuba_6_avisos_detalle.csv\", low_memory=False)"
   ]
  },
  {
   "cell_type": "markdown",
   "metadata": {},
   "source": [
    "### Se toma las postulaciones de personas que estan estudiando"
   ]
  },
  {
   "cell_type": "code",
   "execution_count": 60,
   "metadata": {},
   "outputs": [
    {
     "data": {
      "text/html": [
       "<div>\n",
       "<style>\n",
       "    .dataframe thead tr:only-child th {\n",
       "        text-align: right;\n",
       "    }\n",
       "\n",
       "    .dataframe thead th {\n",
       "        text-align: left;\n",
       "    }\n",
       "\n",
       "    .dataframe tbody tr th {\n",
       "        vertical-align: top;\n",
       "    }\n",
       "</style>\n",
       "<table border=\"1\" class=\"dataframe\">\n",
       "  <thead>\n",
       "    <tr style=\"text-align: right;\">\n",
       "      <th></th>\n",
       "      <th>idaviso</th>\n",
       "      <th>idpostulante</th>\n",
       "      <th>fechapostulacion</th>\n",
       "      <th>nombre</th>\n",
       "      <th>estado</th>\n",
       "    </tr>\n",
       "  </thead>\n",
       "  <tbody>\n",
       "    <tr>\n",
       "      <th>82</th>\n",
       "      <td>1112261212</td>\n",
       "      <td>NdJl</td>\n",
       "      <td>2018-01-16 08:50:30</td>\n",
       "      <td>Posgrado</td>\n",
       "      <td>En Curso</td>\n",
       "    </tr>\n",
       "    <tr>\n",
       "      <th>84</th>\n",
       "      <td>1112273308</td>\n",
       "      <td>NdJl</td>\n",
       "      <td>2018-01-23 07:53:47</td>\n",
       "      <td>Posgrado</td>\n",
       "      <td>En Curso</td>\n",
       "    </tr>\n",
       "    <tr>\n",
       "      <th>86</th>\n",
       "      <td>1112281548</td>\n",
       "      <td>NdJl</td>\n",
       "      <td>2018-01-24 05:10:12</td>\n",
       "      <td>Posgrado</td>\n",
       "      <td>En Curso</td>\n",
       "    </tr>\n",
       "    <tr>\n",
       "      <th>88</th>\n",
       "      <td>1112260409</td>\n",
       "      <td>NdJl</td>\n",
       "      <td>2018-01-24 05:17:29</td>\n",
       "      <td>Posgrado</td>\n",
       "      <td>En Curso</td>\n",
       "    </tr>\n",
       "    <tr>\n",
       "      <th>90</th>\n",
       "      <td>1112293547</td>\n",
       "      <td>NdJl</td>\n",
       "      <td>2018-01-29 15:41:43</td>\n",
       "      <td>Posgrado</td>\n",
       "      <td>En Curso</td>\n",
       "    </tr>\n",
       "  </tbody>\n",
       "</table>\n",
       "</div>"
      ],
      "text/plain": [
       "       idaviso idpostulante     fechapostulacion    nombre    estado\n",
       "82  1112261212         NdJl  2018-01-16 08:50:30  Posgrado  En Curso\n",
       "84  1112273308         NdJl  2018-01-23 07:53:47  Posgrado  En Curso\n",
       "86  1112281548         NdJl  2018-01-24 05:10:12  Posgrado  En Curso\n",
       "88  1112260409         NdJl  2018-01-24 05:17:29  Posgrado  En Curso\n",
       "90  1112293547         NdJl  2018-01-29 15:41:43  Posgrado  En Curso"
      ]
     },
     "execution_count": 60,
     "metadata": {},
     "output_type": "execute_result"
    }
   ],
   "source": [
    "postulaciones_detalle = pd.merge(postulaciones, postulantes_educacion, on='idpostulante', how='left')\n",
    "\n",
    "enCurso = (postulaciones_detalle['estado']=='En Curso')\n",
    "\n",
    "postulaciones__estudiantes = postulaciones_detalle[enCurso]\n",
    "\n",
    "postulaciones__estudiantes.head()"
   ]
  },
  {
   "cell_type": "markdown",
   "metadata": {},
   "source": [
    "### Se toman el detalle de los avisos."
   ]
  },
  {
   "cell_type": "code",
   "execution_count": 77,
   "metadata": {},
   "outputs": [
    {
     "data": {
      "text/plain": [
       "Text(0.5,1,'Cantidad de postulaciones de estudiantes por tipo de trabajo ')"
      ]
     },
     "execution_count": 77,
     "metadata": {},
     "output_type": "execute_result"
    },
    {
     "data": {
      "image/png": "[encoded data removed]",
      "text/plain": [
       "<matplotlib.figure.Figure at 0x7f410b2a9b70>"
      ]
     },
     "metadata": {},
     "output_type": "display_data"
    }
   ],
   "source": [
    "total = pd.merge(postulaciones_universitarios_cursando, avisos_detalle, on='idaviso', how='left')\n",
    "\n",
    "total = total[~pd.isnull(total['tipo_de_trabajo'])]\n",
    "total\n",
    "\n",
    "grupo = total.groupby('tipo_de_trabajo').agg({'tipo_de_trabajo':'count'}).sort_values('tipo_de_trabajo', ascending = False).head(3)\n",
    "grupo.plot(kind='bar', figsize=(12,10),rot=0, fontsize= 12,grid = False)\n",
    "ax=plt.gca()\n",
    "ax.set_ylabel('cantidad de postulaciones',fontsize=12);\n",
    "ax.set_xlabel('categorias',fontsize=12)\n",
    "ax.set_title('Cantidad de postulaciones de estudiantes por tipo de trabajo ',fontsize=25)\n"
   ]
  },
  {
   "cell_type": "code",
   "execution_count": null,
   "metadata": {
    "collapsed": true
   },
   "outputs": [],
   "source": []
  }
 ],
 "metadata": {
  "kernelspec": {
   "display_name": "Python 3",
   "language": "python",
   "name": "python3"
  },
  "language_info": {
   "codemirror_mode": {
    "name": "ipython",
    "version": 3
   },
   "file_extension": ".py",
   "mimetype": "text/x-python",
   "name": "python",
   "nbconvert_exporter": "python",
   "pygments_lexer": "ipython3",
   "version": "3.6.3"
  }
 },
 "nbformat": 4,
 "nbformat_minor": 2
}
