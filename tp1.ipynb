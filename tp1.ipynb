{
 "cells": [
  {
   "cell_type": "code",
   "execution_count": 9,
   "metadata": {
    "collapsed": true
   },
   "outputs": [],
   "source": [
    "import datetime as datetime\n",
    "import pandas as pd\n",
    "import numpy as np\n",
    "import matplotlib.pyplot as plt\n",
    "\n",
    "plt.style.use('default') # Make the graphs a bit prettier\n",
    "plt.rcParams['figure.figsize'] = (15, 5)"
   ]
  },
  {
   "cell_type": "code",
   "execution_count": 14,
   "metadata": {},
   "outputs": [],
   "source": [
    "postulantes_educacion = pd.read_csv(\"datos/datos_navent_fiuba/fiuba_1_postulantes_educacion.csv\", low_memory=False)\n",
    "postulantes_genero_y_edad = pd.read_csv(\"datos/datos_navent_fiuba/fiuba_2_postulantes_genero_y_edad.csv\", low_memory=False)\n",
    "vistas = pd.read_csv(\"datos/datos_navent_fiuba/fiuba_3_vistas.csv\", low_memory=False)\n",
    "postulaciones = pd.read_csv(\"datos/datos_navent_fiuba/fiuba_4_postulaciones.csv\", low_memory=False)\n",
    "avisos_online = pd.read_csv(\"datos/datos_navent_fiuba/fiuba_5_avisos_online.csv\", low_memory=False)\n",
    "avisos_detalle = pd.read_csv(\"datos/datos_navent_fiuba/fiuba_6_avisos_detalle.csv\", low_memory=False)"
   ]
  },
  {
   "cell_type": "code",
   "execution_count": null,
   "metadata": {
    "collapsed": true
   },
   "outputs": [],
   "source": []
  },
  {
   "cell_type": "code",
   "execution_count": null,
   "metadata": {
    "collapsed": true
   },
   "outputs": [],
   "source": []
  }
 ],
 "metadata": {
  "kernelspec": {
   "display_name": "Python 3",
   "language": "python",
   "name": "python3"
  },
  "language_info": {
   "codemirror_mode": {
    "name": "ipython",
    "version": 3
   },
   "file_extension": ".py",
   "mimetype": "text/x-python",
   "name": "python",
   "nbconvert_exporter": "python",
   "pygments_lexer": "ipython3",
   "version": "3.6.3"
  }
 },
 "nbformat": 4,
 "nbformat_minor": 2
}
